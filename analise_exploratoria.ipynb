{
 "cells": [
  {
   "cell_type": "markdown",
   "metadata": {},
   "source": [
    "#### Abrindo os dados"
   ]
  },
  {
   "cell_type": "code",
   "execution_count": 1,
   "metadata": {},
   "outputs": [],
   "source": [
    "import pandas as pd\n",
    "import matplotlib.pyplot as plt\n",
    "import numpy as np\n",
    "import datetime\n",
    "import os\n",
    "import seaborn as sns\n",
    "from scipy.stats import wilcoxon\n",
    "#%matplotlib inline\n",
    "plt.style.use('ggplot')"
   ]
  },
  {
   "cell_type": "code",
   "execution_count": 2,
   "metadata": {},
   "outputs": [],
   "source": [
    "graficos_dir = r'D:\\Trabalho\\faculdade\\TCC\\outputs\\graficos\\analise_exploratoria'"
   ]
  },
  {
   "cell_type": "code",
   "execution_count": 3,
   "metadata": {},
   "outputs": [],
   "source": [
    "data = pd.read_csv(r'D:\\Trabalho\\faculdade\\TCC\\outputs\\tabelas\\dados_treino_offset.csv')\n",
    "data['data_medicao'] = pd.to_datetime(data['data_medicao'])\n",
    "data['lentidao'] = data['lentidao']/1000 #Transformando em km"
   ]
  },
  {
   "cell_type": "markdown",
   "metadata": {},
   "source": [
    "#### Plotando lentidão ao longo do dia"
   ]
  },
  {
   "cell_type": "code",
   "execution_count": 4,
   "metadata": {},
   "outputs": [],
   "source": [
    "lentidao_por_horario = data.groupby(data.data_medicao.dt.hour).agg('sum')\n",
    "fig,ax = plt.subplots(figsize=(16,6))\n",
    "ax.bar(x=lentidao_por_horario.index,height=lentidao_por_horario['lentidao'], color='deepskyblue')\n",
    "ax.set_xticks(lentidao_por_horario.index)\n",
    "ax.set_xticklabels(labels= lentidao_por_horario.index)\n",
    "ax.set_ylabel('Slowness', fontsize=14)\n",
    "plt.savefig(r'D:\\Trabalho\\faculdade\\TCC\\outputs\\graficos\\analise_exploratoria\\slowness_by_time_of_day.png')\n",
    "plt.show()"
   ]
  },
  {
   "cell_type": "code",
   "execution_count": 5,
   "metadata": {
    "scrolled": true
   },
   "outputs": [],
   "source": [
    "xs = pd.to_datetime(lentidao_por_horario.reset_index()['data_medicao'], format='%H')\n",
    "xs = xs - datetime.datetime.strptime('00:00:00', '%H:%M:%S')\n",
    "xs = xs.dt.seconds / (24 * 3600)\n",
    "xs = xs * 2 * np.pi\n",
    "\n",
    "fig = plt.figure(figsize=(7,7))\n",
    "ax = plt.subplot(111, projection = 'polar')\n",
    "ax.bar(xs, lentidao_por_horario['lentidao'], width = 0.1, alpha=0.3, color='deepskyblue')\n",
    "\n",
    "# Make the labels go clockwise\n",
    "ax.set_theta_direction(-1)\n",
    "\n",
    "#Place Zero at Top\n",
    "ax.set_theta_offset(np.pi/2)\n",
    "\n",
    "#Set the circumference ticks\n",
    "ax.set_xticks(np.linspace(0, 2*np.pi, 24, endpoint=False))\n",
    "\n",
    "# set the label names\n",
    "ticks = ['12 AM', '1 AM', '2 AM', '3 AM', '4 AM', '5 AM', '6 AM', '7 AM','8 AM','9 AM','10 AM','11 AM','12 PM', '1 PM', '2 PM', '3 PM', '4 PM',  '5 PM', '6 PM', '7 PM', '8 PM', '9 PM', '10 PM', '11 PM' ]\n",
    "ax.set_xticklabels(ticks)\n",
    "\n",
    "# suppress the radial labels\n",
    "plt.setp(ax.get_yticklabels(), visible=False)\n",
    "\n",
    "#Bars to the wall\n",
    "plt.ylim(0,lentidao_por_horario['lentidao'].max())\n",
    "\n",
    "#plt.legend(bbox_to_anchor=(1,0), fancybox=True, shadow=True)\n",
    "plt.savefig(os.path.join(graficos_dir,'lentidao_por_horario_clockplot.png'))\n",
    "plt.show()\n"
   ]
  },
  {
   "cell_type": "markdown",
   "metadata": {},
   "source": [
    "#### Plotando lentidão ao longo do ano"
   ]
  },
  {
   "cell_type": "code",
   "execution_count": 6,
   "metadata": {},
   "outputs": [],
   "source": [
    "lentidao_meia_hora = data.groupby('data_medicao').agg('sum').reset_index()\n",
    "lentidao_por_mes = lentidao_meia_hora.groupby(lentidao_meia_hora.data_medicao.dt.month).agg('mean')\n",
    "fig,ax = plt.subplots(figsize=(16,6))\n",
    "ax.plot(lentidao_por_mes.index,lentidao_por_mes['lentidao'], c='deepskyblue')\n",
    "ax.set_xticks(lentidao_por_mes.index)\n",
    "ax.set_xticklabels(labels= lentidao_por_mes.index)\n",
    "ax.set_ylabel('Slowness', fontsize=14)\n",
    "plt.show()"
   ]
  },
  {
   "cell_type": "markdown",
   "metadata": {},
   "source": [
    "#### Verificando a lentidão média"
   ]
  },
  {
   "cell_type": "code",
   "execution_count": 7,
   "metadata": {},
   "outputs": [
    {
     "name": "stdout",
     "output_type": "stream",
     "text": [
      " A lentidão diária média é de 36.17 Km de extensão\n"
     ]
    }
   ],
   "source": [
    "lentidao_meia_hora = data.groupby('data_medicao').agg('sum').reset_index()\n",
    "lentidao_media = lentidao_meia_hora['lentidao'].mean()\n",
    "print(f' A lentidão diária média é de {round(lentidao_media,2)} Km de extensão')"
   ]
  },
  {
   "cell_type": "markdown",
   "metadata": {},
   "source": [
    "#### Verificando  quais são os trechos de maior lentidão média anual"
   ]
  },
  {
   "cell_type": "code",
   "execution_count": 8,
   "metadata": {},
   "outputs": [
    {
     "data": {
      "text/html": [
       "<div>\n",
       "<style scoped>\n",
       "    .dataframe tbody tr th:only-of-type {\n",
       "        vertical-align: middle;\n",
       "    }\n",
       "\n",
       "    .dataframe tbody tr th {\n",
       "        vertical-align: top;\n",
       "    }\n",
       "\n",
       "    .dataframe thead th {\n",
       "        text-align: right;\n",
       "    }\n",
       "</style>\n",
       "<table border=\"1\" class=\"dataframe\">\n",
       "  <thead>\n",
       "    <tr style=\"text-align: right;\">\n",
       "      <th></th>\n",
       "      <th>lentidao</th>\n",
       "    </tr>\n",
       "    <tr>\n",
       "      <th>corredor</th>\n",
       "      <th></th>\n",
       "    </tr>\n",
       "  </thead>\n",
       "  <tbody>\n",
       "    <tr>\n",
       "      <th>Marginal Tietê</th>\n",
       "      <td>12.304876</td>\n",
       "    </tr>\n",
       "    <tr>\n",
       "      <th>Marginal Pinheiros</th>\n",
       "      <td>10.064325</td>\n",
       "    </tr>\n",
       "    <tr>\n",
       "      <th>Marginal Tietê - Pista Central</th>\n",
       "      <td>5.369398</td>\n",
       "    </tr>\n",
       "    <tr>\n",
       "      <th>Vinte Três/R Berta/M Guimarães</th>\n",
       "      <td>3.941529</td>\n",
       "    </tr>\n",
       "    <tr>\n",
       "      <th>Bandeirantes, Av dos</th>\n",
       "      <td>2.658439</td>\n",
       "    </tr>\n",
       "  </tbody>\n",
       "</table>\n",
       "</div>"
      ],
      "text/plain": [
       "                                 lentidao\n",
       "corredor                                 \n",
       "Marginal Tietê                  12.304876\n",
       "Marginal Pinheiros              10.064325\n",
       "Marginal Tietê - Pista Central   5.369398\n",
       "Vinte Três/R Berta/M Guimarães   3.941529\n",
       "Bandeirantes, Av dos             2.658439"
      ]
     },
     "execution_count": 8,
     "metadata": {},
     "output_type": "execute_result"
    }
   ],
   "source": [
    "lentidao_meia_hora_por_corredor = data.groupby(['data_medicao','corredor']).agg('sum').reset_index()\n",
    "lentidao_media_por_corredor = lentidao_meia_hora_por_corredor.groupby('corredor').agg('mean').sort_values('lentidao',ascending=False)[['lentidao']]\n",
    "lentidao_media_por_corredor.head(5)"
   ]
  },
  {
   "cell_type": "markdown",
   "metadata": {},
   "source": [
    "#### Distribuição da lentidão"
   ]
  },
  {
   "cell_type": "code",
   "execution_count": null,
   "metadata": {},
   "outputs": [],
   "source": [
    "fig,ax = plt.subplots(figsize=(16,6))\n",
    "ax.hist(data['lentidao'], bins=50, density=False, color='deepskyblue', density=True)\n",
    "ax.set_ylabel('Frequency', fontsize=14)\n",
    "ax.set_xlabel('Slowness',fontsize=14)\n",
    "plt.show()"
   ]
  },
  {
   "cell_type": "code",
   "execution_count": 10,
   "metadata": {},
   "outputs": [
    {
     "name": "stderr",
     "output_type": "stream",
     "text": [
      "[10]:3: UserWarning: \n",
      "\n",
      "`distplot` is a deprecated function and will be removed in seaborn v0.14.0.\n",
      "\n",
      "Please adapt your code to use either `displot` (a figure-level function with\n",
      "similar flexibility) or `histplot` (an axes-level function for histograms).\n",
      "\n",
      "For a guide to updating your code to use the new functions, please see\n",
      "https://gist.github.com/mwaskom/de44147ed2974457ad6372750bbe5751\n",
      "\n"
     ]
    }
   ],
   "source": [
    "sns.set(rc={'figure.figsize':(10,6)})\n",
    "\n",
    "histograma = sns.distplot(data['lentidao'], hist=True, kde=True, \n",
    "             bins=int(100), color = 'skyblue', \n",
    "             hist_kws={'edgecolor':'black'},\n",
    "             kde_kws={'linewidth': 1, 'color':'red'})\n",
    "\n",
    "fig = histograma.get_figure()\n",
    "sns.set(font_scale=1)\n",
    "histograma.set(xlabel =\"Slowness (Km)\", ylabel = \"Density\", title ='')\n",
    "fig.savefig(os.path.join(graficos_dir, \"histograma_lentidao.png\")) \n",
    "fig.show()"
   ]
  },
  {
   "cell_type": "markdown",
   "metadata": {},
   "source": [
    "#### Fazendo testes de hipótese"
   ]
  },
  {
   "cell_type": "markdown",
   "metadata": {},
   "source": [
    "##### Alagamento"
   ]
  },
  {
   "cell_type": "markdown",
   "metadata": {},
   "source": [
    "H0 --> A lentidao durante alagamentos é igual a quando não há alagamentos\n",
    "\n",
    "H1 --> A lentidão durante alagamentos é maior do que quando não há alagamentos"
   ]
  },
  {
   "cell_type": "code",
   "execution_count": 6,
   "metadata": {},
   "outputs": [
    {
     "name": "stdout",
     "output_type": "stream",
     "text": [
      "p-value:5.130751382048811e-19\n"
     ]
    }
   ],
   "source": [
    "#lentidao media por rua e horario em dias sem alagamento\n",
    "sem_alagamentos = data[data['quantidade_alagamentos']==0].groupby([data['data_medicao'].dt.hour,'corredor']).agg('mean')['lentidao']\n",
    "#lentidao media por rua e horario em dias com mais de 2 alagamentos\n",
    "com_alagamentos = data[data['quantidade_alagamentos']>=1].groupby([data['data_medicao'].dt.hour,'corredor']).agg('mean')['lentidao']\n",
    "#Comparando lentidao em dias com e sem alagamento\n",
    "comparacao_alagamentos = pd.merge(com_alagamentos, sem_alagamentos, left_index = True, right_index = True).rename(columns={'lentidao_x':'lentidao_com_alagamento','lentidao_y':'lentidao_sem_alagamento'})\n",
    "stat, p = wilcoxon(comparacao_alagamentos['lentidao_com_alagamento'],comparacao_alagamentos['lentidao_sem_alagamento'], alternative='greater')\n",
    "print(f'p-value:{p}')"
   ]
  },
  {
   "cell_type": "code",
   "execution_count": 43,
   "metadata": {},
   "outputs": [
    {
     "name": "stdout",
     "output_type": "stream",
     "text": [
      "Em dias de alagamento a lentidão é 39.05% maior\n"
     ]
    }
   ],
   "source": [
    "d = comparacao_alagamentos.groupby(level=0).agg('sum')\n",
    "lent_total_com_alag = comparacao_alagamentos['lentidao_com_alagamento'].sum()\n",
    "lent_total_sem_alag = comparacao_alagamentos['lentidao_sem_alagamento'].sum()\n",
    "perc_diff = (lent_total_sem_alag-lent_total_com_alag)/lent_total_sem_alag\n",
    "\n",
    "print(f'Em dias de alagamento a lentidão é {round(abs(perc_diff)*100,2)}% maior')"
   ]
  },
  {
   "cell_type": "markdown",
   "metadata": {},
   "source": [
    "###### Visualização"
   ]
  },
  {
   "cell_type": "code",
   "execution_count": 6,
   "metadata": {
    "scrolled": true
   },
   "outputs": [
    {
     "ename": "NameError",
     "evalue": "name 'comparacao_alagamentos' is not defined",
     "output_type": "error",
     "traceback": [
      "\u001b[0;31m---------------------------------------------------------------------------\u001b[0m\n\u001b[0;31mNameError\u001b[0m                                 Traceback (most recent call last)",
      "In  \u001b[0;34m[6]\u001b[0m:\nLine \u001b[0;34m1\u001b[0m:     d = comparacao_alagamentos.groupby(level=\u001b[34m0\u001b[39;49;00m).agg(\u001b[33m'\u001b[39;49;00m\u001b[33msum\u001b[39;49;00m\u001b[33m'\u001b[39;49;00m)\n",
      "\u001b[0;31mNameError\u001b[0m: name 'comparacao_alagamentos' is not defined\n\u001b[0;31m---------------------------------------------------------------------------\u001b[0m"
     ]
    }
   ],
   "source": [
    "d = comparacao_alagamentos.groupby(level=0).agg('sum')\n",
    "X = d.index\n",
    "lent_com_alag = d['lentidao_com_alagamento']\n",
    "lent_sem_alag = d['lentidao_sem_alagamento']\n",
    "X_axis = np.arange(len(X))\n",
    "fig,ax = plt.subplots(figsize = (10,6))\n",
    "#ax.bar(X_axis - 0.2, lent_sem_alag, 0.4, label = 'No floods', color='gold')\n",
    "#ax.bar(X_axis + 0.2, lent_com_alag, 0.4, label = 'With floods', color='skyblue')\n",
    "ax.plot(X_axis, lent_sem_alag, c='r')\n",
    "ax.plot(X_axis, lent_com_alag, c='b')\n",
    "\n",
    "plt.xticks(X_axis, X)\n",
    "plt.xlabel(\"Time of day\")\n",
    "plt.ylabel(\"Slowness (km)\")\n",
    "#plt.title(\"Number of Students in each group\")\n",
    "plt.legend()\n",
    "fig.savefig(os.path.join(graficos_dir, \"comparacao_com_e_sem_alag.png\")) \n",
    "plt.show()"
   ]
  },
  {
   "cell_type": "code",
   "execution_count": 36,
   "metadata": {},
   "outputs": [
    {
     "data": {
      "image/png": "[encoded data removed]",
      "text/plain": [
       "<Figure size 720x432 with 1 Axes>"
      ]
     },
     "metadata": {},
     "output_type": "display_data"
    }
   ],
   "source": [
    "plot = seaborn.boxplot(data=data, x='quantidade_alagamentos', y='lentidao', showfliers=False,color='skyblue')\n",
    "plot.set(xlabel =\"Floods\", ylabel = \"Slowness\", title ='')\n",
    "fig = plot.get_figure()\n",
    "fig.savefig(os.path.join(graficos_dir, \"boxplot_alagamentos.png\")) \n",
    "plt.show()"
   ]
  },
  {
   "cell_type": "markdown",
   "metadata": {},
   "source": [
    "##### Chuva"
   ]
  },
  {
   "cell_type": "markdown",
   "metadata": {},
   "source": [
    "H0 --> A lentidao durante chuva é igual a quando não há alagamentos\n",
    "\n",
    "H1 --> A lentidão durante chuva é maior do que quando não há alagamentos"
   ]
  },
  {
   "cell_type": "code",
   "execution_count": 350,
   "metadata": {
    "scrolled": true
   },
   "outputs": [
    {
     "name": "stdout",
     "output_type": "stream",
     "text": [
      "p-value:1.1310857968416641e-23\n"
     ]
    }
   ],
   "source": [
    "#lentidao media por rua e horario em dias sem chuva\n",
    "sem_chuva = data[data['precipitacao']==0].groupby([data['data_medicao'].dt.hour,'corredor']).agg('mean')['lentidao']\n",
    "#lentidao media por rua e horario em dias com mais de 2 alagamentos\n",
    "com_chuva = data[data['precipitacao']>=1].groupby([data['data_medicao'].dt.hour,'corredor']).agg('mean')['lentidao']\n",
    "#Comparando lentidao em dias com e sem alagamento\n",
    "comparacao_chuva = pd.merge(com_chuva, sem_chuva, left_index = True, right_index = True).rename(columns={'lentidao_x':'lentidao_com_chuva','lentidao_y':'lentidao_sem_chuva'})\n",
    "stat, p = wilcoxon(comparacao_chuva['lentidao_com_chuva'],comparacao_chuva['lentidao_sem_chuva'], alternative='greater')\n",
    "print(f'p-value:{p}')"
   ]
  },
  {
   "cell_type": "code",
   "execution_count": 352,
   "metadata": {},
   "outputs": [
    {
     "name": "stdout",
     "output_type": "stream",
     "text": [
      "Em dias de chuva a lentidão é 14.37% maior\n"
     ]
    }
   ],
   "source": [
    "d = comparacao_chuva.groupby(level=0).agg('sum')\n",
    "lent_total_com_chuva = comparacao_chuva['lentidao_com_chuva'].sum()\n",
    "lent_total_sem_chuva = comparacao_chuva['lentidao_sem_chuva'].sum()\n",
    "perc_diff = (lent_total_sem_chuva-lent_total_com_chuva)/lent_total_sem_chuva\n",
    "\n",
    "print(f'Em dias de chuva a lentidão é {round(abs(perc_diff)*100,2)}% maior')"
   ]
  },
  {
   "cell_type": "markdown",
   "metadata": {},
   "source": [
    "###### Visualização"
   ]
  },
  {
   "cell_type": "code",
   "execution_count": 4,
   "metadata": {},
   "outputs": [],
   "source": [
    "def classify_rain(rain):\n",
    "    if rain==0:\n",
    "        return 'no rain'\n",
    "    elif rain < 10:\n",
    "        return 'rain'\n",
    "    elif rain<30:\n",
    "        return 'moderate'\n",
    "    else:\n",
    "        return 'severe'\n",
    "   "
   ]
  },
  {
   "cell_type": "code",
   "execution_count": 10,
   "metadata": {},
   "outputs": [
    {
     "data": {
      "image/png": "[encoded data removed]",
      "text/plain": [
       "<Figure size 504x252 with 1 Axes>"
      ]
     },
     "metadata": {},
     "output_type": "display_data"
    }
   ],
   "source": [
    "plt.rcParams[\"figure.figsize\"] = [7.00, 3.50]\n",
    "plt.rcParams[\"figure.autolayout\"] = True\n",
    "\n",
    "chuva_vis = data.copy()[['precipitacao','lentidao']]\n",
    "chuva_vis['precipitacao_classe'] = chuva_vis['precipitacao'].apply(lambda x: classify_rain(x))\n",
    "plot = sns.boxplot(data=chuva_vis, x='precipitacao_classe', y='lentidao',\n",
    "                       showfliers=False,color='skyblue',\n",
    "                      order = ['Dry','Drizzle', 'Rain'])\n",
    "plot.set (xlabel='',ylabel = \"Slowness (km)\", title ='')\n",
    "#plot.set_xticklabels(['no rain','weak','moderate','severe','very severe'])\n",
    "plt.show()\n",
    "#fig = plot.get_figure()\n",
    "#fig.savefig(os.path.join(graficos_dir, \"boxplot_chuva.png\")) \n",
    "#plt.show()"
   ]
  },
  {
   "cell_type": "code",
   "execution_count": 203,
   "metadata": {},
   "outputs": [
    {
     "data": {
      "text/plain": [
       "1525.7064941679644"
      ]
     },
     "execution_count": 203,
     "metadata": {},
     "output_type": "execute_result"
    }
   ],
   "source": [
    "lent_total_sem_chuva"
   ]
  },
  {
   "cell_type": "code",
   "execution_count": 353,
   "metadata": {},
   "outputs": [
    {
     "data": {
      "text/plain": [
       "1744.9069620314758"
      ]
     },
     "execution_count": 353,
     "metadata": {},
     "output_type": "execute_result"
    }
   ],
   "source": [
    "lent_total_com_chuva"
   ]
  },
  {
   "cell_type": "code",
   "execution_count": 388,
   "metadata": {},
   "outputs": [
    {
     "data": {
      "text/plain": [
       "3.0"
      ]
     },
     "execution_count": 388,
     "metadata": {},
     "output_type": "execute_result"
    }
   ],
   "source": [
    "data['precipitacao'].quantile(0.99)"
   ]
  },
  {
   "cell_type": "markdown",
   "metadata": {},
   "source": [
    "##### Acidentes"
   ]
  },
  {
   "cell_type": "markdown",
   "metadata": {},
   "source": [
    "H0 --> A lentidao durante acidentes é igual a quando não há alagamentos\n",
    "\n",
    "H1 --> A lentidão durante acidentes é maior do que quando não há alagamentos"
   ]
  },
  {
   "cell_type": "code",
   "execution_count": 294,
   "metadata": {},
   "outputs": [
    {
     "name": "stdout",
     "output_type": "stream",
     "text": [
      "p-value:0.0997616052045911\n"
     ]
    }
   ],
   "source": [
    "#lentidao media por rua e horario em dias sem alagamento\n",
    "sem_acidente = data[data['quantidade_acidentes']==0].groupby([data['data_medicao'].dt.hour,'corredor']).agg('mean')['lentidao']\n",
    "#lentidao media por rua e horario em dias com mais de 2 alagamentos\n",
    "com_acidente = data[data['quantidade_acidentes']>=2].groupby([data['data_medicao'].dt.hour,'corredor']).agg('mean')['lentidao']\n",
    "#Comparando lentidao em dias com e sem alagamento\n",
    "comparacao_acidentes = pd.merge(com_acidente, sem_acidente, left_index = True, right_index = True).rename(columns={'lentidao_x':'lentidao_com_acidente','lentidao_y':'lentidao_sem_acidente'})\n",
    "stat, p = wilcoxon(comparacao_acidentes['lentidao_com_acidente'],comparacao_acidentes['lentidao_sem_acidente'], alternative='greater')\n",
    "print(f'p-value:{p}')"
   ]
  },
  {
   "cell_type": "markdown",
   "metadata": {},
   "source": [
    "###### Visualização "
   ]
  },
  {
   "cell_type": "code",
   "execution_count": 26,
   "metadata": {},
   "outputs": [
    {
     "data": {
      "image/png": "[encoded data removed]",
      "text/plain": [
       "<Figure size 504x252 with 1 Axes>"
      ]
     },
     "metadata": {},
     "output_type": "display_data"
    }
   ],
   "source": [
    "plot = seaborn.boxplot(data=data[data['quantidade_acidentes']<5], x='quantidade_acidentes', y='lentidao', showfliers=False,color='orange')\n",
    "plot.set(xlabel =\"Accidents\", ylabel = \"Slowness\", title ='')\n",
    "fig = plot.get_figure()\n",
    "fig.savefig(os.path.join(graficos_dir, \"boxplot_acidentes.png\")) \n",
    "plt.show()"
   ]
  },
  {
   "cell_type": "markdown",
   "metadata": {},
   "source": [
    "#### Socioeconomico"
   ]
  },
  {
   "cell_type": "code",
   "execution_count": 144,
   "metadata": {},
   "outputs": [
    {
     "data": {
      "text/plain": [
       "484"
      ]
     },
     "execution_count": 144,
     "metadata": {},
     "output_type": "execute_result"
    }
   ],
   "source": [
    "len(comparacao_alagamentos['lentidao_com_alagamento'])"
   ]
  },
  {
   "cell_type": "code",
   "execution_count": 145,
   "metadata": {},
   "outputs": [
    {
     "data": {
      "text/html": [
       "<div>\n",
       "<style scoped>\n",
       "    .dataframe tbody tr th:only-of-type {\n",
       "        vertical-align: middle;\n",
       "    }\n",
       "\n",
       "    .dataframe tbody tr th {\n",
       "        vertical-align: top;\n",
       "    }\n",
       "\n",
       "    .dataframe thead th {\n",
       "        text-align: right;\n",
       "    }\n",
       "</style>\n",
       "<table border=\"1\" class=\"dataframe\">\n",
       "  <thead>\n",
       "    <tr style=\"text-align: right;\">\n",
       "      <th></th>\n",
       "      <th>data_medicao</th>\n",
       "      <th>lentidao_com_alagamento</th>\n",
       "      <th>lentidao_sem_alagamento</th>\n",
       "    </tr>\n",
       "  </thead>\n",
       "  <tbody>\n",
       "    <tr>\n",
       "      <th>0</th>\n",
       "      <td>0</td>\n",
       "      <td>20.517000</td>\n",
       "      <td>7.722311</td>\n",
       "    </tr>\n",
       "    <tr>\n",
       "      <th>1</th>\n",
       "      <td>4</td>\n",
       "      <td>4.210000</td>\n",
       "      <td>2.662026</td>\n",
       "    </tr>\n",
       "    <tr>\n",
       "      <th>2</th>\n",
       "      <td>5</td>\n",
       "      <td>19.145000</td>\n",
       "      <td>5.793391</td>\n",
       "    </tr>\n",
       "    <tr>\n",
       "      <th>3</th>\n",
       "      <td>6</td>\n",
       "      <td>28.824792</td>\n",
       "      <td>12.864825</td>\n",
       "    </tr>\n",
       "    <tr>\n",
       "      <th>4</th>\n",
       "      <td>7</td>\n",
       "      <td>74.082319</td>\n",
       "      <td>42.932841</td>\n",
       "    </tr>\n",
       "    <tr>\n",
       "      <th>5</th>\n",
       "      <td>8</td>\n",
       "      <td>104.539207</td>\n",
       "      <td>69.157209</td>\n",
       "    </tr>\n",
       "    <tr>\n",
       "      <th>6</th>\n",
       "      <td>9</td>\n",
       "      <td>104.737610</td>\n",
       "      <td>76.402932</td>\n",
       "    </tr>\n",
       "    <tr>\n",
       "      <th>7</th>\n",
       "      <td>10</td>\n",
       "      <td>89.275154</td>\n",
       "      <td>66.342023</td>\n",
       "    </tr>\n",
       "    <tr>\n",
       "      <th>8</th>\n",
       "      <td>11</td>\n",
       "      <td>74.986386</td>\n",
       "      <td>59.714605</td>\n",
       "    </tr>\n",
       "    <tr>\n",
       "      <th>9</th>\n",
       "      <td>12</td>\n",
       "      <td>45.377833</td>\n",
       "      <td>35.715756</td>\n",
       "    </tr>\n",
       "    <tr>\n",
       "      <th>10</th>\n",
       "      <td>13</td>\n",
       "      <td>39.581233</td>\n",
       "      <td>29.133192</td>\n",
       "    </tr>\n",
       "    <tr>\n",
       "      <th>11</th>\n",
       "      <td>14</td>\n",
       "      <td>34.887750</td>\n",
       "      <td>23.348810</td>\n",
       "    </tr>\n",
       "    <tr>\n",
       "      <th>12</th>\n",
       "      <td>15</td>\n",
       "      <td>35.302976</td>\n",
       "      <td>29.483399</td>\n",
       "    </tr>\n",
       "    <tr>\n",
       "      <th>13</th>\n",
       "      <td>16</td>\n",
       "      <td>83.194159</td>\n",
       "      <td>61.215673</td>\n",
       "    </tr>\n",
       "    <tr>\n",
       "      <th>14</th>\n",
       "      <td>17</td>\n",
       "      <td>85.364245</td>\n",
       "      <td>70.674500</td>\n",
       "    </tr>\n",
       "    <tr>\n",
       "      <th>15</th>\n",
       "      <td>18</td>\n",
       "      <td>89.965644</td>\n",
       "      <td>81.183485</td>\n",
       "    </tr>\n",
       "    <tr>\n",
       "      <th>16</th>\n",
       "      <td>19</td>\n",
       "      <td>88.655333</td>\n",
       "      <td>74.965067</td>\n",
       "    </tr>\n",
       "    <tr>\n",
       "      <th>17</th>\n",
       "      <td>20</td>\n",
       "      <td>77.192939</td>\n",
       "      <td>61.374617</td>\n",
       "    </tr>\n",
       "    <tr>\n",
       "      <th>18</th>\n",
       "      <td>21</td>\n",
       "      <td>55.102385</td>\n",
       "      <td>30.072490</td>\n",
       "    </tr>\n",
       "    <tr>\n",
       "      <th>19</th>\n",
       "      <td>22</td>\n",
       "      <td>35.573857</td>\n",
       "      <td>15.426630</td>\n",
       "    </tr>\n",
       "  </tbody>\n",
       "</table>\n",
       "</div>"
      ],
      "text/plain": [
       "    data_medicao  lentidao_com_alagamento  lentidao_sem_alagamento\n",
       "0              0                20.517000                 7.722311\n",
       "1              4                 4.210000                 2.662026\n",
       "2              5                19.145000                 5.793391\n",
       "3              6                28.824792                12.864825\n",
       "4              7                74.082319                42.932841\n",
       "5              8               104.539207                69.157209\n",
       "6              9               104.737610                76.402932\n",
       "7             10                89.275154                66.342023\n",
       "8             11                74.986386                59.714605\n",
       "9             12                45.377833                35.715756\n",
       "10            13                39.581233                29.133192\n",
       "11            14                34.887750                23.348810\n",
       "12            15                35.302976                29.483399\n",
       "13            16                83.194159                61.215673\n",
       "14            17                85.364245                70.674500\n",
       "15            18                89.965644                81.183485\n",
       "16            19                88.655333                74.965067\n",
       "17            20                77.192939                61.374617\n",
       "18            21                55.102385                30.072490\n",
       "19            22                35.573857                15.426630"
      ]
     },
     "execution_count": 145,
     "metadata": {},
     "output_type": "execute_result"
    }
   ],
   "source": [
    "comparacao_alagamentos.groupby(level=0).agg('sum').reset_index()"
   ]
  },
  {
   "cell_type": "code",
   "execution_count": 27,
   "metadata": {},
   "outputs": [
    {
     "data": {
      "image/png": "[encoded data removed]",
      "text/plain": [
       "<Figure size 504x252 with 1 Axes>"
      ]
     },
     "metadata": {},
     "output_type": "display_data"
    }
   ],
   "source": [
    "vis_socioeconomico = data.copy()[['lentidao','population_density','household_totals','average_household_size','primary_education','secondary_education','superior_education','purchasing_power']]\n",
    "vis_socioeconomico['populacao_classifica'] = vis_socioeconomico['household_totals'].apply(lambda x: 'baixo' if x<7000 else 'alto')\n",
    "\n",
    "vis_socioeconomico['classifica_densidade'] = pd.cut(vis_socioeconomico['population_density'],[0,4000,7000,np.inf], include_lowest=False, right=False, labels=['baixo','medio','alto'])\n",
    "vis_socioeconomico['classifica_household_totals'] = pd.cut(vis_socioeconomico['household_totals'],[0,4000,7000,10000,np.inf], include_lowest=False, right=False, labels=['low','medium','high','very high'])\n",
    "vis_socioeconomico['classifica_purchasing_power'] = pd.cut(vis_socioeconomico['purchasing_power'],[0,40000,80000,130000,np.inf], include_lowest=False, right=False, labels=['low','medium','high','very high'])\n",
    "#vis_socioeconomico['classifica_superior_education'] = pd.cut(vis_socioeconomico['purchasing_power'],[0,1000,3000,8000,np.inf], include_lowest=False, right=False, labels=['low','medium','high','very high'])\n",
    "\n",
    "\n",
    "plot = seaborn.boxplot(data=vis_socioeconomico, x='classifica_densidade', y='lentidao', showfliers=False,color='orange')\n",
    "plot.set(xlabel =\"Household totals\", ylabel = \"Slowness\", title ='')\n",
    "fig = plot.get_figure()\n",
    "fig.savefig(os.path.join(graficos_dir, \"boxplot_household_totals.png\")) \n",
    "plt.show()"
   ]
  },
  {
   "cell_type": "code",
   "execution_count": 28,
   "metadata": {},
   "outputs": [],
   "source": [
    "#em media, a lentidao é de quanto % do tamanho da rua\n",
    "#data['lentidao_porcentagem'] = data['lentidao']/data['tamanho_corredor']"
   ]
  }
 ],
 "metadata": {
  "kernelspec": {
   "display_name": "ArcGISPro",
   "language": "Python",
   "name": "python3"
  },
  "language_info": {
   "file_extension": ".py",
   "name": "python",
   "version": "3"
  }
 },
 "nbformat": 4,
 "nbformat_minor": 2
}
