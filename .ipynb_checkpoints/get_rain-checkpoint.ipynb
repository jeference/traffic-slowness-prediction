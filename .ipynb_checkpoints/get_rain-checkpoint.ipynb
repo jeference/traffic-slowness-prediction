{
 "cells": [
  {
   "cell_type": "code",
   "execution_count": 11,
   "metadata": {},
   "outputs": [
    {
     "data": {
      "application/vnd.jupyter.widget-view+json": {
       "model_id": "36463d6bcdd14d0fb6f9f971d805e02b",
       "version_major": 2,
       "version_minor": 0
      },
      "text/plain": [
       "  0%|          | 0/8227 [00:00<?, ?it/s]"
      ]
     },
     "metadata": {},
     "output_type": "display_data"
    },
    {
     "ename": "ExecuteError",
     "evalue": "ERROR 999999: Something unexpected caused the tool to fail. Contact Esri Technical Support (http://esriurl.com/support) to Report a Bug, and refer to the error help for potential solutions or workarounds.\nFailed to execute (Clip).\n",
     "output_type": "error",
     "traceback": [
      "\u001b[0;31m---------------------------------------------------------------------------\u001b[0m\n\u001b[0;31mExecuteError\u001b[0m                              Traceback (most recent call last)",
      "In  \u001b[0;34m[11]\u001b[0m:\nLine \u001b[0;34m37\u001b[0m:    generate_rain_points_shapefile(raster, \u001b[33mr\u001b[39;49;00m\u001b[33m'\u001b[39;49;00m\u001b[33mD:\u001b[39;49;00m\u001b[33m\\\u001b[39;49;00m\u001b[33mTrabalho\u001b[39;49;00m\u001b[33m\\\u001b[39;49;00m\u001b[33mfaculdade\u001b[39;49;00m\u001b[33m\\\u001b[39;49;00m\u001b[33mTCC\u001b[39;49;00m\u001b[33m\\\u001b[39;49;00m\u001b[33mdados\u001b[39;49;00m\u001b[33m\\\u001b[39;49;00m\u001b[33mclimaticos\u001b[39;49;00m\u001b[33m\\\u001b[39;49;00m\u001b[33mradar\u001b[39;49;00m\u001b[33m\\\u001b[39;49;00m\u001b[33mmm_h_acumulado_shps\u001b[39;49;00m\u001b[33m\\\u001b[39;49;00m\u001b[33mrain_\u001b[39;49;00m\u001b[33m{}\u001b[39;49;00m\u001b[33m.shp\u001b[39;49;00m\u001b[33m'\u001b[39;49;00m.format(raster_name) )\n",
      "In  \u001b[0;34m[11]\u001b[0m:\nLine \u001b[0;34m17\u001b[0m:    raster = arcpy.management.Clip(raster, \u001b[33m\"\u001b[39;49;00m\u001b[33m-46.83 -24 -46.36 -23.35\u001b[39;49;00m\u001b[33m\"\u001b[39;49;00m, \u001b[33m\"\u001b[39;49;00m\u001b[33mtmp_raster.tif\u001b[39;49;00m\u001b[33m\"\u001b[39;49;00m, \u001b[34mNone\u001b[39;49;00m, \u001b[33m\"\u001b[39;49;00m\u001b[33m255\u001b[39;49;00m\u001b[33m\"\u001b[39;49;00m, \u001b[33m\"\u001b[39;49;00m\u001b[33mNONE\u001b[39;49;00m\u001b[33m\"\u001b[39;49;00m, \u001b[33m\"\u001b[39;49;00m\u001b[33mNO_MAINTAIN_EXTENT\u001b[39;49;00m\u001b[33m\"\u001b[39;49;00m)        \n",
      "File \u001b[0;34mD:\\Program Files\\ArcGIS\\Pro\\Resources\\ArcPy\\arcpy\\management.py\u001b[0m, in \u001b[0;32mClip\u001b[0m:\nLine \u001b[0;34m19530\u001b[0m: \u001b[34mraise\u001b[39;49;00m e\n",
      "File \u001b[0;34mD:\\Program Files\\ArcGIS\\Pro\\Resources\\ArcPy\\arcpy\\management.py\u001b[0m, in \u001b[0;32mClip\u001b[0m:\nLine \u001b[0;34m19527\u001b[0m: retval = convertArcObjectToPythonObject(gp.Clip_management(*gp_fixargs((in_raster, rectangle, out_raster, in_template_dataset, nodata_value, clipping_geometry, maintain_clipping_extent), \u001b[34mTrue\u001b[39;49;00m)))\n",
      "File \u001b[0;34mD:\\Program Files\\ArcGIS\\Pro\\Resources\\ArcPy\\arcpy\\geoprocessing\\_base.py\u001b[0m, in \u001b[0;32m<lambda>\u001b[0m:\nLine \u001b[0;34m512\u001b[0m:   \u001b[34mreturn\u001b[39;49;00m \u001b[34mlambda\u001b[39;49;00m *args: val(*gp_fixargs(args, \u001b[34mTrue\u001b[39;49;00m))\n",
      "\u001b[0;31mExecuteError\u001b[0m: ERROR 999999: Something unexpected caused the tool to fail. Contact Esri Technical Support (http://esriurl.com/support) to Report a Bug, and refer to the error help for potential solutions or workarounds.\nFailed to execute (Clip).\n\n\u001b[0;31m---------------------------------------------------------------------------\u001b[0m"
     ]
    }
   ],
   "source": [
    "import pandas as pd\n",
    "import numpy as np\n",
    "import os\n",
    "from tqdm.notebook import tqdm\n",
    "arcpy.env.addOutputsToMap = False\n",
    "arcpy.env.workspace = r'D:\\Trabalho\\faculdade\\TCC\\dados\\climaticos\\radar\\mm_h_acumulado_tifs'\n",
    "\n",
    "def generate_rain_points_shapefile(raster, out_shp_path):\n",
    "    #out_shape_path =  os.path.join(out_dir, 'data_'+ raster.split('.')[0] + '.shp')\n",
    "    raster_name = os.path.basename(raster.split('.')[0])\n",
    "    # Obtendo a data atraves do nome do arquivo\n",
    "    year = raster_name[:4]\n",
    "    month = raster_name[4:6]\n",
    "    day = raster_name[6:8]\n",
    "    hour = raster_name[8:10]\n",
    "    minute = raster_name[10:]\n",
    "    date = f'{day}/{month}/{year} {hour}:{minute}'\n",
    "    #date = f'{raster_name[:4]}-{raster_name[4:6]}-{raster_name[6:8]} {raster_name[8:10]}:{raster_name[10:]}'\n",
    "    \n",
    "    #Cortando o raster para o extent das ruas\n",
    "    raster = arcpy.management.Clip(raster, \"-46.83 -24 -46.36 -23.35\", \"tmp_raster.tif\", None, \"255\", \"NONE\", \"NO_MAINTAIN_EXTENT\")        \n",
    "    #Mantendo apenas as celulas com chuva>=1\n",
    "    raster = arcpy.ia.SetNull(raster, raster, \"VALUE = 0\")\n",
    "    if raster.maximum>0:\n",
    "        #Convertendo o raster para ponto\n",
    "        arcpy.conversion.RasterToPoint(raster, out_shp_path, \"Value\")\n",
    "        \n",
    "        #Adicionando o campo da data\n",
    "        arcpy.management.AddField(out_shp_path, 'data', 'DATE')\n",
    "\n",
    "        #Preenchendo o campo de data\n",
    "        with arcpy.da.UpdateCursor(out_shp_path, 'data') as cursor:\n",
    "            for row in cursor:\n",
    "                row[0] = date\n",
    "                cursor.updateRow(row)\n",
    "                \n",
    "rasters = arcpy.ListRasters()\n",
    "\n",
    "for raster in tqdm(rasters, total=len(rasters)):  \n",
    "    raster_name = raster.split('.')[0]\n",
    "    generate_rain_points_shapefile(raster, r'D:\\Trabalho\\faculdade\\TCC\\dados\\climaticos\\radar\\mm_h_acumulado_shps\\rain_{}.shp'.format(raster_name) )\n",
    "\n",
    "#Faz o merge de todos os shp\n",
    "#...\n",
    "#Muda o nome do campo de chuva\n",
    "#arcpy.management.AlterField(\"rain_radar_2019\", \"grid_code\", \"precipitacao\", \"precipitacao\", \"LONG\", 4, \"NULLABLE\", \"DO_NOT_CLEAR\")"
   ]
  },
  {
   "cell_type": "code",
   "execution_count": null,
   "metadata": {},
   "outputs": [],
   "source": []
  }
 ],
 "metadata": {
  "kernelspec": {
   "display_name": "ArcGISPro",
   "language": "Python",
   "name": "python3"
  },
  "language_info": {
   "file_extension": ".py",
   "name": "python",
   "version": "3"
  }
 },
 "nbformat": 4,
 "nbformat_minor": 2
}
