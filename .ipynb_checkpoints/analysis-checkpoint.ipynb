{
 "cells": [
  {
   "cell_type": "code",
   "execution_count": 126,
   "metadata": {},
   "outputs": [],
   "source": [
    "import pandas as pd\n",
    "import numpy as np\n",
    "import matplotlib.pyplot as plt\n",
    "import seaborn\n",
    "import os\n",
    "import scipy.stats\n",
    "from scipy.stats import wilcoxon\n",
    "#from sklearn.tree import DecisionTreeRegressor\n",
    "#from sklearn.linear_model import LinearRegression\n",
    "from sklearn.ensemble import RandomForestRegressor\n",
    "from sklearn.model_selection import train_test_split\n",
    "from sklearn.metrics import mean_squared_error, r2_score, mean_absolute_percentage_error\n",
    "%matplotlib inline"
   ]
  },
  {
   "cell_type": "code",
   "execution_count": 2,
   "metadata": {},
   "outputs": [],
   "source": [
    "graficos_dir = r'D:\\Trabalho\\faculdade\\TCC\\outputs\\graficos\\analise_exploratoria'"
   ]
  },
  {
   "cell_type": "markdown",
   "metadata": {},
   "source": [
    "#### Abrindo os dados"
   ]
  },
  {
   "cell_type": "code",
   "execution_count": 3,
   "metadata": {},
   "outputs": [],
   "source": [
    "#Abrindo dados de lentidao\n",
    "arruamento_e_lentidao = pd.read_excel(r'D:\\Trabalho\\faculdade\\TCC\\gis\\tabelas\\arruamento_valido_e_lentidao.xlsx', usecols = ['data_medicao','corredor','Shape_Length','lentidao'])\n",
    "arruamento_e_lentidao = arruamento_e_lentidao.rename(columns = {'Shape_Length':'tamanho_corredor'})\n",
    "arruamento_e_lentidao['data_medicao'] = pd.to_datetime(arruamento_e_lentidao['data_medicao'])\n",
    "#arruamento_e_lentidao = arruamento_e_lentidao.set_index(['data_medicao','corredor'])"
   ]
  },
  {
   "cell_type": "code",
   "execution_count": 4,
   "metadata": {},
   "outputs": [],
   "source": [
    "#Abrindo dados de chuva\n",
    "chuva = pd.read_excel(r'D:\\Trabalho\\faculdade\\TCC\\gis\\tabelas\\join_chuva.xlsx',usecols = ['data_medicao','corredor','precipitacao'])\n",
    "chuva['data_medicao'] = pd.to_datetime(chuva['data_medicao'])\n",
    "#chuva = chuva.set_index(['data_medicao','corredor'])"
   ]
  },
  {
   "cell_type": "code",
   "execution_count": 5,
   "metadata": {},
   "outputs": [],
   "source": [
    "#Abrindo dados de alagamento\n",
    "alagamentos = pd.read_excel(r'D:\\Trabalho\\faculdade\\TCC\\gis\\tabelas\\join_alagamentos.xlsx', usecols=['data_medicao','corredor','soma_duracoes_alagamentos','quantidade_alagamentos'])\n",
    "alagamentos['data_medicao'] = pd.to_datetime(alagamentos['data_medicao'])\n",
    "#alagamentos = alagamentos.set_index(['data_medicao','corredor'])"
   ]
  },
  {
   "cell_type": "code",
   "execution_count": 6,
   "metadata": {},
   "outputs": [],
   "source": [
    "#Abrindo dados de acidentes\n",
    "acidentes = pd.read_excel(r'D:\\Trabalho\\faculdade\\TCC\\gis\\tabelas\\join_acidentes.xlsx', usecols=['data_medicao','corredor','quantidade_acidentes'])\n",
    "acidentes['data_medicao'] = pd.to_datetime(acidentes['data_medicao'])\n",
    "#acidentes = acidentes.set_index(['data_medicao','corredor'])"
   ]
  },
  {
   "cell_type": "code",
   "execution_count": 7,
   "metadata": {},
   "outputs": [],
   "source": [
    "#Abrindo dados socioeconômicos\n",
    "socioeconomico = pd.read_excel(r'D:\\Trabalho\\faculdade\\TCC\\gis\\tabelas\\join_socioeconomico.xlsx').drop(['OBJECTID','Shape_Length'], axis=1)\n",
    "socioeconomico['data_medicao'] = pd.to_datetime(socioeconomico['data_medicao'])\n",
    "#acidentes = acidentes.set_index(['data_medicao','corredor'])"
   ]
  },
  {
   "cell_type": "markdown",
   "metadata": {},
   "source": [
    "#### Juntando os dados"
   ]
  },
  {
   "cell_type": "code",
   "execution_count": 8,
   "metadata": {},
   "outputs": [],
   "source": [
    "#Juntando os de chuva\n",
    "merge_chuva = pd.merge(arruamento_e_lentidao,chuva,on=['data_medicao','corredor'], how='left')\n",
    "merge_chuva = merge_chuva.fillna(0)"
   ]
  },
  {
   "cell_type": "code",
   "execution_count": 9,
   "metadata": {},
   "outputs": [],
   "source": [
    "#Juntando dados de alagamento\n",
    "merge_alagamentos = pd.merge(merge_chuva ,alagamentos,on=['data_medicao','corredor'],how='left')\n",
    "merge_alagamentos = merge_alagamentos.fillna(0)"
   ]
  },
  {
   "cell_type": "code",
   "execution_count": 10,
   "metadata": {},
   "outputs": [],
   "source": [
    "#Juntando dados de acidentes\n",
    "merge_acidentes = pd.merge(merge_alagamentos ,acidentes,on=['data_medicao','corredor'],how='left')\n",
    "merge_acidentes = merge_acidentes.fillna(0)"
   ]
  },
  {
   "cell_type": "code",
   "execution_count": 11,
   "metadata": {},
   "outputs": [],
   "source": [
    "#Juntando dados socioeconomicos\n",
    "merge_socioeconomico = pd.merge(merge_acidentes ,socioeconomico,on=['data_medicao','corredor'],how='left')\n",
    "data = merge_socioeconomico.copy()"
   ]
  },
  {
   "cell_type": "code",
   "execution_count": 36,
   "metadata": {},
   "outputs": [
    {
     "data": {
      "text/html": [
       "<div>\n",
       "<style scoped>\n",
       "    .dataframe tbody tr th:only-of-type {\n",
       "        vertical-align: middle;\n",
       "    }\n",
       "\n",
       "    .dataframe tbody tr th {\n",
       "        vertical-align: top;\n",
       "    }\n",
       "\n",
       "    .dataframe thead th {\n",
       "        text-align: right;\n",
       "    }\n",
       "</style>\n",
       "<table border=\"1\" class=\"dataframe\">\n",
       "  <thead>\n",
       "    <tr style=\"text-align: right;\">\n",
       "      <th></th>\n",
       "      <th>data_medicao</th>\n",
       "      <th>corredor</th>\n",
       "      <th>lentidao</th>\n",
       "      <th>tamanho_corredor</th>\n",
       "      <th>precipitacao</th>\n",
       "      <th>soma_duracoes_alagamentos</th>\n",
       "      <th>quantidade_alagamentos</th>\n",
       "      <th>quantidade_acidentes</th>\n",
       "      <th>population_density</th>\n",
       "      <th>household_totals</th>\n",
       "      <th>average_household_size</th>\n",
       "      <th>primary_education</th>\n",
       "      <th>secondary_education</th>\n",
       "      <th>superior_education</th>\n",
       "      <th>purchasing_power</th>\n",
       "      <th>dia</th>\n",
       "      <th>periodo_do_dia</th>\n",
       "      <th>estacao</th>\n",
       "    </tr>\n",
       "  </thead>\n",
       "  <tbody>\n",
       "    <tr>\n",
       "      <th>0</th>\n",
       "      <td>2019-01-23 08:00:00</td>\n",
       "      <td>Abraão de Morais, Av Prof/Imig</td>\n",
       "      <td>2070</td>\n",
       "      <td>7340.035314</td>\n",
       "      <td>0.0</td>\n",
       "      <td>0.0</td>\n",
       "      <td>0.0</td>\n",
       "      <td>0.0</td>\n",
       "      <td>16009.5</td>\n",
       "      <td>25737.0</td>\n",
       "      <td>2.6</td>\n",
       "      <td>8168.0</td>\n",
       "      <td>13630.0</td>\n",
       "      <td>10317.0</td>\n",
       "      <td>71110.42</td>\n",
       "      <td>dia_de_semana</td>\n",
       "      <td>manha</td>\n",
       "      <td>inverno</td>\n",
       "    </tr>\n",
       "    <tr>\n",
       "      <th>1</th>\n",
       "      <td>2019-01-23 08:30:00</td>\n",
       "      <td>Abraão de Morais, Av Prof/Imig</td>\n",
       "      <td>2070</td>\n",
       "      <td>7340.035314</td>\n",
       "      <td>0.0</td>\n",
       "      <td>0.0</td>\n",
       "      <td>0.0</td>\n",
       "      <td>0.0</td>\n",
       "      <td>16009.5</td>\n",
       "      <td>25737.0</td>\n",
       "      <td>2.6</td>\n",
       "      <td>8168.0</td>\n",
       "      <td>13630.0</td>\n",
       "      <td>10317.0</td>\n",
       "      <td>71110.42</td>\n",
       "      <td>dia_de_semana</td>\n",
       "      <td>manha</td>\n",
       "      <td>inverno</td>\n",
       "    </tr>\n",
       "    <tr>\n",
       "      <th>2</th>\n",
       "      <td>2019-01-23 09:00:00</td>\n",
       "      <td>Abraão de Morais, Av Prof/Imig</td>\n",
       "      <td>2070</td>\n",
       "      <td>7340.035314</td>\n",
       "      <td>0.0</td>\n",
       "      <td>0.0</td>\n",
       "      <td>0.0</td>\n",
       "      <td>0.0</td>\n",
       "      <td>16009.5</td>\n",
       "      <td>25737.0</td>\n",
       "      <td>2.6</td>\n",
       "      <td>8168.0</td>\n",
       "      <td>13630.0</td>\n",
       "      <td>10317.0</td>\n",
       "      <td>71110.42</td>\n",
       "      <td>dia_de_semana</td>\n",
       "      <td>manha</td>\n",
       "      <td>inverno</td>\n",
       "    </tr>\n",
       "  </tbody>\n",
       "</table>\n",
       "</div>"
      ],
      "text/plain": [
       "         data_medicao                        corredor  ...  periodo_do_dia  estacao\n",
       "0 2019-01-23 08:00:00  Abraão de Morais, Av Prof/Imig  ...           manha  inverno\n",
       "1 2019-01-23 08:30:00  Abraão de Morais, Av Prof/Imig  ...           manha  inverno\n",
       "2 2019-01-23 09:00:00  Abraão de Morais, Av Prof/Imig  ...           manha  inverno\n",
       "\n",
       "[3 rows x 18 columns]"
      ]
     },
     "execution_count": 36,
     "metadata": {},
     "output_type": "execute_result"
    }
   ],
   "source": [
    "data.head(3)"
   ]
  },
  {
   "cell_type": "markdown",
   "metadata": {},
   "source": [
    "#### Adicionando campos com informações sobre o horário de medição da lentidão"
   ]
  },
  {
   "cell_type": "code",
   "execution_count": 14,
   "metadata": {},
   "outputs": [],
   "source": [
    "data['dia'] = data['data_medicao'].dt.weekday.apply(lambda x: 'dia_de_semana' if x<4 else 'fim _de_semana')\n",
    "\n",
    "\n",
    "def get_daytime(x):\n",
    "    if x in range(0,7):\n",
    "        return 'madrugada'\n",
    "    elif x in range(7,13):\n",
    "        return 'manha'\n",
    "    elif x in range(13,19):\n",
    "        return 'tarde'\n",
    "    elif x in range(19,24):\n",
    "        return 'noite'\n",
    "        \n",
    "data['periodo_do_dia'] = data['data_medicao'].dt.hour.apply(lambda x: get_daytime(x))\n",
    "\n",
    "def get_season(x):\n",
    "    \n",
    "    spring = range(80, 172)\n",
    "    summer = range(172, 264)\n",
    "    fall = range(264, 355)\n",
    "    # winter = everything else\n",
    "\n",
    "    if x in spring:\n",
    "        return'primavera'\n",
    "    elif x in summer:\n",
    "        return'verao'\n",
    "    elif x in fall:\n",
    "        return 'outono'\n",
    "    else:\n",
    "        return 'inverno'\n",
    "    \n",
    "    \n",
    "data['estacao'] = data['data_medicao'].dt.dayofyear.apply(lambda x: get_season(x))"
   ]
  },
  {
   "cell_type": "code",
   "execution_count": 88,
   "metadata": {},
   "outputs": [],
   "source": [
    "one_hot_encoded_columns = pd.get_dummies(data[['dia','periodo_do_dia','estacao']])\n",
    "data = data.drop(['dia','periodo_do_dia','estacao'], axis=1)\n",
    "data = data.join(one_hot_encoded_columns)\n",
    "#data = data.set_index(['data_medicao','corredor'])"
   ]
  },
  {
   "cell_type": "markdown",
   "metadata": {},
   "source": [
    "#### Fazendo testes de hipótese"
   ]
  },
  {
   "cell_type": "markdown",
   "metadata": {},
   "source": [
    "##### Alagamento"
   ]
  },
  {
   "cell_type": "markdown",
   "metadata": {},
   "source": [
    "H0 --> A lentidao durante alagamentos é igual a quando não há alagamentos\n",
    "\n",
    "H1 --> A lentidão durante alagamentos é maior do que quando não há alagamentos"
   ]
  },
  {
   "cell_type": "code",
   "execution_count": 57,
   "metadata": {},
   "outputs": [
    {
     "name": "stdout",
     "output_type": "stream",
     "text": [
      "p-value:4.818621699793418e-19\n"
     ]
    }
   ],
   "source": [
    "#lentidao media por rua e horario em dias sem alagamento\n",
    "sem_alagamentos = data[data['quantidade_alagamentos']==0].groupby([data['data_medicao'].dt.hour,'corredor']).agg('mean')['lentidao']\n",
    "#lentidao media por rua e horario em dias com mais de 2 alagamentos\n",
    "com_alagamentos = data[data['quantidade_alagamentos']>=1].groupby([data['data_medicao'].dt.hour,'corredor']).agg('mean')['lentidao']\n",
    "#Comparando lentidao em dias com e sem alagamento\n",
    "comparacao_alagamentos = pd.merge(com_alagamentos, sem_alagamentos, left_index = True, right_index = True).rename(columns={'lentidao_x':'lentidao_com_alagamento','lentidao_y':'lentidao_sem_alagamento'})\n",
    "stat, p = wilcoxon(comparacao_alagamentos['lentidao_com_alagamento'],comparacao_alagamentos['lentidao_sem_alagamento'], alternative='greater')\n",
    "print(f'p-value:{p}')"
   ]
  },
  {
   "cell_type": "markdown",
   "metadata": {},
   "source": [
    "###### Visualização"
   ]
  },
  {
   "cell_type": "code",
   "execution_count": 86,
   "metadata": {},
   "outputs": [
    {
     "data": {
      "image/png": "[encoded data removed]",
      "text/plain": [
       "<Figure size 432x288 with 1 Axes>"
      ]
     },
     "metadata": {},
     "output_type": "display_data"
    }
   ],
   "source": [
    "plot = seaborn.boxplot(data=data, x='quantidade_alagamentos', y='lentidao', showfliers=False,color='skyblue')\n",
    "plot.set(xlabel =\"Floods\", ylabel = \"Slowness\", title ='')\n",
    "fig = plot.get_figure()\n",
    "fig.savefig(os.path.join(graficos_dir, \"boxplot_alagamentos.png\")) \n",
    "plt.show()"
   ]
  },
  {
   "cell_type": "markdown",
   "metadata": {},
   "source": [
    "##### Chuva"
   ]
  },
  {
   "cell_type": "markdown",
   "metadata": {},
   "source": [
    "H0 --> A lentidao durante chuva é igual a quando não há alagamentos\n",
    "\n",
    "H1 --> A lentidão durante chuva é maior do que quando não há alagamentos"
   ]
  },
  {
   "cell_type": "code",
   "execution_count": 58,
   "metadata": {},
   "outputs": [
    {
     "name": "stdout",
     "output_type": "stream",
     "text": [
      "p-value:9.443953615125579e-24\n"
     ]
    }
   ],
   "source": [
    "#lentidao media por rua e horario em dias sem alagamento\n",
    "sem_chuva = data[data['precipitacao']==0].groupby([data['data_medicao'].dt.hour,'corredor']).agg('mean')['lentidao']\n",
    "#lentidao media por rua e horario em dias com mais de 2 alagamentos\n",
    "com_chuva = data[data['precipitacao']>=1].groupby([data['data_medicao'].dt.hour,'corredor']).agg('mean')['lentidao']\n",
    "#Comparando lentidao em dias com e sem alagamento\n",
    "comparacao_chuva = pd.merge(com_chuva, sem_chuva, left_index = True, right_index = True).rename(columns={'lentidao_x':'lentidao_com_chuva','lentidao_y':'lentidao_sem_chuva'})\n",
    "stat, p = wilcoxon(comparacao_chuva['lentidao_com_chuva'],comparacao_chuva['lentidao_sem_chuva'], alternative='greater')\n",
    "print(f'p-value:{p}')"
   ]
  },
  {
   "cell_type": "markdown",
   "metadata": {},
   "source": [
    "###### Visualização"
   ]
  },
  {
   "cell_type": "code",
   "execution_count": 194,
   "metadata": {},
   "outputs": [],
   "source": [
    "def classify_rain(rain):\n",
    "    if rain==0:\n",
    "        return 'no rain'\n",
    "    elif rain < 15:\n",
    "        return 'weak'\n",
    "    elif rain<75:\n",
    "        return 'moderate'\n",
    "    elif rain< 150:\n",
    "        return 'severe'\n",
    "    else:\n",
    "        return 'very severe'"
   ]
  },
  {
   "cell_type": "code",
   "execution_count": 199,
   "metadata": {},
   "outputs": [
    {
     "data": {
      "image/png": "[encoded data removed]",
      "text/plain": [
       "<Figure size 504x252 with 1 Axes>"
      ]
     },
     "metadata": {},
     "output_type": "display_data"
    }
   ],
   "source": [
    "plt.rcParams[\"figure.figsize\"] = [7.00, 3.50]\n",
    "plt.rcParams[\"figure.autolayout\"] = True\n",
    "\n",
    "chuva_vis = data.copy()[['precipitacao','lentidao']]\n",
    "chuva_vis['precipitacao_classe'] = chuva_vis['precipitacao'].apply(lambda x: classify_rain(x))\n",
    "plot = seaborn.boxplot(data=chuva_vis, x='precipitacao_classe', y='lentidao',\n",
    "                       showfliers=False,color='orange',\n",
    "                      order = ['no rain','weak','moderate','severe','very severe'])\n",
    "plot.set(xlabel =\"rain level\", ylabel = \"Slowness\", title ='')\n",
    "#plot.set_xticklabels(['no rain','weak','moderate','severe','very severe'])\n",
    "\n",
    "fig = plot.get_figure()\n",
    "fig.savefig(os.path.join(graficos_dir, \"boxplot_chuva.png\")) \n",
    "plt.show()"
   ]
  },
  {
   "cell_type": "markdown",
   "metadata": {},
   "source": [
    "##### Acidentes"
   ]
  },
  {
   "cell_type": "markdown",
   "metadata": {},
   "source": [
    "H0 --> A lentidao durante acidentes é igual a quando não há alagamentos\n",
    "\n",
    "H1 --> A lentidão durante acidentes é maior do que quando não há alagamentos"
   ]
  },
  {
   "cell_type": "code",
   "execution_count": 59,
   "metadata": {},
   "outputs": [
    {
     "name": "stdout",
     "output_type": "stream",
     "text": [
      "p-value:0.0997616052045911\n"
     ]
    }
   ],
   "source": [
    "#lentidao media por rua e horario em dias sem alagamento\n",
    "sem_acidente = data[data['quantidade_acidentes']==0].groupby([data['data_medicao'].dt.hour,'corredor']).agg('mean')['lentidao']\n",
    "#lentidao media por rua e horario em dias com mais de 2 alagamentos\n",
    "com_acidente = data[data['quantidade_acidentes']>=2].groupby([data['data_medicao'].dt.hour,'corredor']).agg('mean')['lentidao']\n",
    "#Comparando lentidao em dias com e sem alagamento\n",
    "comparacao_acidentes = pd.merge(com_acidente, sem_acidente, left_index = True, right_index = True).rename(columns={'lentidao_x':'lentidao_com_acidente','lentidao_y':'lentidao_sem_acidente'})\n",
    "stat, p = wilcoxon(comparacao_acidentes['lentidao_com_acidente'],comparacao_acidentes['lentidao_sem_acidente'], alternative='greater')\n",
    "print(f'p-value:{p}')"
   ]
  },
  {
   "cell_type": "markdown",
   "metadata": {},
   "source": [
    "###### Visualização "
   ]
  },
  {
   "cell_type": "code",
   "execution_count": 16,
   "metadata": {},
   "outputs": [
    {
     "data": {
      "image/png": "[encoded data removed]",
      "text/plain": [
       "<Figure size 432x288 with 1 Axes>"
      ]
     },
     "metadata": {},
     "output_type": "display_data"
    }
   ],
   "source": [
    "plot = seaborn.boxplot(data=data[data['quantidade_acidentes']<5], x='quantidade_acidentes', y='lentidao', showfliers=False,color='orange')\n",
    "plot.set(xlabel =\"Accidents\", ylabel = \"Slowness\", title ='')\n",
    "fig = plot.get_figure()\n",
    "fig.savefig(os.path.join(graficos_dir, \"boxplot_acidentes.png\")) \n",
    "plt.show()"
   ]
  },
  {
   "cell_type": "markdown",
   "metadata": {},
   "source": [
    "#### Socioeconomico"
   ]
  },
  {
   "cell_type": "code",
   "execution_count": 85,
   "metadata": {},
   "outputs": [
    {
     "data": {
      "image/png": "[encoded data removed]",
      "text/plain": [
       "<Figure size 432x288 with 1 Axes>"
      ]
     },
     "metadata": {},
     "output_type": "display_data"
    }
   ],
   "source": [
    "vis_socioeconomico = data.copy()[['lentidao','population_density','household_totals','average_household_size','primary_education','secondary_education','superior_education','purchasing_power']]\n",
    "vis_socioeconomico['populacao_classifica'] = vis_socioeconomico['household_totals'].apply(lambda x: 'baixo' if x<7000 else 'alto')\n",
    "\n",
    "vis_socioeconomico['classifica_densidade'] = pd.cut(vis_socioeconomico['population_density'],[0,4000,7000,np.inf], include_lowest=False, right=False, labels=['baixo','medio','alto'])\n",
    "vis_socioeconomico['classifica_household_totals'] = pd.cut(vis_socioeconomico['household_totals'],[0,4000,7000,10000,np.inf], include_lowest=False, right=False, labels=['low','medium','high','very high'])\n",
    "vis_socioeconomico['classifica_purchasing_power'] = pd.cut(vis_socioeconomico['purchasing_power'],[0,40000,80000,130000,np.inf], include_lowest=False, right=False, labels=['low','medium','high','very high'])\n",
    "#vis_socioeconomico['classifica_superior_education'] = pd.cut(vis_socioeconomico['purchasing_power'],[0,1000,3000,8000,np.inf], include_lowest=False, right=False, labels=['low','medium','high','very high'])\n",
    "\n",
    "\n",
    "plot = seaborn.boxplot(data=vis_socioeconomico, x='classifica_densidade', y='lentidao', showfliers=False,color='orange')\n",
    "plot.set(xlabel =\"Household totals\", ylabel = \"Slowness\", title ='')\n",
    "fig = plot.get_figure()\n",
    "fig.savefig(os.path.join(graficos_dir, \"boxplot_household_totals.png\")) \n",
    "plt.show()"
   ]
  },
  {
   "cell_type": "code",
   "execution_count": 60,
   "metadata": {},
   "outputs": [],
   "source": [
    "#em media, a lentidao é de quanto % do tamanho da rua\n",
    "#data['lentidao_porcentagem'] = data['lentidao']/data['tamanho_corredor']"
   ]
  },
  {
   "cell_type": "markdown",
   "metadata": {},
   "source": [
    "#### Criando dados de treinamento "
   ]
  },
  {
   "cell_type": "code",
   "execution_count": 169,
   "metadata": {},
   "outputs": [],
   "source": [
    "data_copy = data[data['precipitacao']>1]\n",
    "X = data_copy.set_index(['data_medicao','corredor']).drop(['lentidao',], axis=1)\n",
    "y = data_copy['lentidao']\n",
    "x_train, x_test, y_train, y_test = train_test_split(X,y)"
   ]
  },
  {
   "cell_type": "code",
   "execution_count": 170,
   "metadata": {},
   "outputs": [
    {
     "data": {
      "text/plain": [
       "RandomForestRegressor()"
      ]
     },
     "execution_count": 170,
     "metadata": {},
     "output_type": "execute_result"
    }
   ],
   "source": [
    "model = RandomForestRegressor()\n",
    "model.fit(x_train, y_train)"
   ]
  },
  {
   "cell_type": "markdown",
   "metadata": {},
   "source": [
    "Plotando dados de treino"
   ]
  },
  {
   "cell_type": "code",
   "execution_count": 175,
   "metadata": {},
   "outputs": [
    {
     "name": "stdout",
     "output_type": "stream",
     "text": [
      "R2 de treino: 0.95\n",
      "RMSE de treino:910.39\n",
      "MAPE de treino: 0.18\n"
     ]
    },
    {
     "data": {
      "image/png": "[encoded data removed]",
      "text/plain": [
       "<Figure size 720x432 with 1 Axes>"
      ]
     },
     "metadata": {},
     "output_type": "display_data"
    }
   ],
   "source": [
    "y_pred = model.predict(x_train)\n",
    "fig, ax = plt.subplots(figsize = (10,6))\n",
    "r2_treino = r2_score(y_train, y_pred)\n",
    "rmse_treino = np.sqrt(mean_squared_error(y_train, y_pred))\n",
    "mape_treino = mean_absolute_percentage_error(y_train,y_pred)\n",
    "\n",
    "print(f'R2 de treino: {round(r2_treino,2)}')\n",
    "print(f'RMSE de treino:{round(rmse_treino,2)}')\n",
    "print(f'MAPE de treino: {round(mape_treino,2)}')\n",
    "\n",
    "ax.scatter(y_train, y_pred)\n",
    "a,b,_,_,_ = scipy.stats.linregress(y_train, y_pred)\n",
    "ax.plot(np.arange(1,35000), a*np.arange(1,35000)+b, c='r')\n",
    "ax.set_title('Actual vs Predicted')\n",
    "ax.set_ylabel('predicted slowness')\n",
    "ax.set_xlabel('actual slowness')\n",
    "plt.savefig(os.path.join(graficos_dir, 'training_regression.png'))\n",
    "plt.show()"
   ]
  },
  {
   "cell_type": "markdown",
   "metadata": {},
   "source": [
    "Plotando dados de teste"
   ]
  },
  {
   "cell_type": "code",
   "execution_count": 177,
   "metadata": {},
   "outputs": [
    {
     "name": "stdout",
     "output_type": "stream",
     "text": [
      "R2 de teste: 0.79\n",
      "RMSE de teste:1866.58\n",
      "MAPE de teste: 0.41\n"
     ]
    },
    {
     "data": {
      "image/png": "[encoded data removed]",
      "text/plain": [
       "<Figure size 720x432 with 1 Axes>"
      ]
     },
     "metadata": {},
     "output_type": "display_data"
    }
   ],
   "source": [
    "y_pred = model.predict(x_test)\n",
    "fig, ax = plt.subplots(figsize = (10,6))\n",
    "r2_test = r2_score(y_test, y_pred)\n",
    "rmse_test = np.sqrt(mean_squared_error(y_test, y_pred))\n",
    "mape_test = mean_absolute_percentage_error(y_test,y_pred)\n",
    "\n",
    "print(f'R2 de teste: {round(r2_test,2)}')\n",
    "print(f'RMSE de teste:{round(rmse_test,2)}')\n",
    "print(f'MAPE de teste: {round(mape_test,2)}')\n",
    "\n",
    "ax.scatter(y_test, y_pred)\n",
    "a,b,_,_,_ = scipy.stats.linregress(y_test, y_pred)\n",
    "ax.plot(np.arange(1,35000), a*np.arange(1,35000)+b, c='r')\n",
    "ax.set_title('Actual vs Predicted')\n",
    "ax.set_ylabel('predicted slowness')\n",
    "ax.set_xlabel('actual slowness')\n",
    "plt.savefig(os.path.join(graficos_dir, 'test_regression.png'))\n",
    "plt.show()"
   ]
  },
  {
   "cell_type": "code",
   "execution_count": 92,
   "metadata": {},
   "outputs": [
    {
     "data": {
      "text/plain": [
       "2477.2354308423323"
      ]
     },
     "execution_count": 92,
     "metadata": {},
     "output_type": "execute_result"
    }
   ],
   "source": [
    "np.sqrt(mean_squared_error(y_train, y_pred))"
   ]
  },
  {
   "cell_type": "code",
   "execution_count": 146,
   "metadata": {},
   "outputs": [
    {
     "data": {
      "text/plain": [
       "0.1967307107900968"
      ]
     },
     "execution_count": 146,
     "metadata": {},
     "output_type": "execute_result"
    }
   ],
   "source": [
    "mean_absolute_percentage_error(y_train,y_pred)"
   ]
  },
  {
   "cell_type": "code",
   "execution_count": 112,
   "metadata": {},
   "outputs": [
    {
     "data": {
      "text/plain": [
       "0.8832109712787816"
      ]
     },
     "execution_count": 112,
     "metadata": {},
     "output_type": "execute_result"
    }
   ],
   "source": [
    "r2_teste = r2_score(y_test, model.predict(x_test))\n",
    "r2_teste"
   ]
  },
  {
   "cell_type": "code",
   "execution_count": 114,
   "metadata": {},
   "outputs": [
    {
     "data": {
      "text/plain": [
       "True"
      ]
     },
     "execution_count": 114,
     "metadata": {},
     "output_type": "execute_result"
    }
   ],
   "source": [
    "len(y_test) == len(model.predict(x_test))"
   ]
  },
  {
   "cell_type": "code",
   "execution_count": 165,
   "metadata": {},
   "outputs": [
    {
     "data": {
      "text/plain": [
       "['feature 0', 'feature 1', 'feature 2', 'feature 3', 'feature 4', 'feature 5', 'feature 6', 'feature 7', 'feature 8', 'feature 9', 'feature 10', 'feature 11', 'feature 12', 'feature 13', 'feature 14', 'feature 15', 'feature 16', 'feature 17', 'feature 18', 'feature 19', 'feature 20', 'feature 21']"
      ]
     },
     "execution_count": 165,
     "metadata": {},
     "output_type": "execute_result"
    }
   ],
   "source": [
    "feature_names = [f\"feature {i}\" for i in range(X.shape[1])]\n",
    "feature_names"
   ]
  },
  {
   "cell_type": "code",
   "execution_count": 166,
   "metadata": {},
   "outputs": [],
   "source": [
    "importances = model.feature_importances_\n"
   ]
  },
  {
   "cell_type": "code",
   "execution_count": 167,
   "metadata": {},
   "outputs": [
    {
     "data": {
      "text/plain": [
       "array([0.24170725, 0.16086819, 0.04758109, 0.01589345, 0.03381863,\n",
       "       0.08941643, 0.07529307, 0.01822763, 0.0170563 , 0.02061428,\n",
       "       0.06799064, 0.00150761, 0.03508048, 0.03320171, 0.00840747,\n",
       "       0.0291636 , 0.01827165, 0.01953691, 0.01530383, 0.01727052,\n",
       "       0.0166049 , 0.01718434])"
      ]
     },
     "execution_count": 167,
     "metadata": {},
     "output_type": "execute_result"
    }
   ],
   "source": [
    "importances"
   ]
  },
  {
   "cell_type": "code",
   "execution_count": 168,
   "metadata": {},
   "outputs": [
    {
     "data": {
      "text/plain": [
       "Index(['tamanho_corredor', 'precipitacao', 'soma_duracoes_alagamentos',\n",
       "       'quantidade_alagamentos', 'quantidade_acidentes', 'population_density',\n",
       "       'household_totals', 'average_household_size', 'primary_education',\n",
       "       'secondary_education', 'superior_education', 'purchasing_power',\n",
       "       'dia_dia_de_semana', 'dia_fim _de_semana', 'periodo_do_dia_madrugada',\n",
       "       'periodo_do_dia_manha', 'periodo_do_dia_noite', 'periodo_do_dia_tarde',\n",
       "       'estacao_inverno', 'estacao_outono', 'estacao_primavera',\n",
       "       'estacao_verao'],\n",
       "      dtype='object')"
      ]
     },
     "execution_count": 168,
     "metadata": {},
     "output_type": "execute_result"
    }
   ],
   "source": [
    "X.columns"
   ]
  },
  {
   "cell_type": "code",
   "execution_count": 183,
   "metadata": {},
   "outputs": [
    {
     "data": {
      "text/html": [
       "<div>\n",
       "<style scoped>\n",
       "    .dataframe tbody tr th:only-of-type {\n",
       "        vertical-align: middle;\n",
       "    }\n",
       "\n",
       "    .dataframe tbody tr th {\n",
       "        vertical-align: top;\n",
       "    }\n",
       "\n",
       "    .dataframe thead th {\n",
       "        text-align: right;\n",
       "    }\n",
       "</style>\n",
       "<table border=\"1\" class=\"dataframe\">\n",
       "  <thead>\n",
       "    <tr style=\"text-align: right;\">\n",
       "      <th></th>\n",
       "      <th>feature</th>\n",
       "      <th>importance</th>\n",
       "    </tr>\n",
       "  </thead>\n",
       "  <tbody>\n",
       "    <tr>\n",
       "      <th>0</th>\n",
       "      <td>tamanho_corredor</td>\n",
       "      <td>0.241707</td>\n",
       "    </tr>\n",
       "    <tr>\n",
       "      <th>1</th>\n",
       "      <td>precipitacao</td>\n",
       "      <td>0.160868</td>\n",
       "    </tr>\n",
       "    <tr>\n",
       "      <th>5</th>\n",
       "      <td>population_density</td>\n",
       "      <td>0.089416</td>\n",
       "    </tr>\n",
       "    <tr>\n",
       "      <th>6</th>\n",
       "      <td>household_totals</td>\n",
       "      <td>0.075293</td>\n",
       "    </tr>\n",
       "    <tr>\n",
       "      <th>10</th>\n",
       "      <td>superior_education</td>\n",
       "      <td>0.067991</td>\n",
       "    </tr>\n",
       "    <tr>\n",
       "      <th>2</th>\n",
       "      <td>soma_duracoes_alagamentos</td>\n",
       "      <td>0.047581</td>\n",
       "    </tr>\n",
       "    <tr>\n",
       "      <th>12</th>\n",
       "      <td>dia_dia_de_semana</td>\n",
       "      <td>0.035080</td>\n",
       "    </tr>\n",
       "    <tr>\n",
       "      <th>4</th>\n",
       "      <td>quantidade_acidentes</td>\n",
       "      <td>0.033819</td>\n",
       "    </tr>\n",
       "    <tr>\n",
       "      <th>13</th>\n",
       "      <td>dia_fim _de_semana</td>\n",
       "      <td>0.033202</td>\n",
       "    </tr>\n",
       "    <tr>\n",
       "      <th>15</th>\n",
       "      <td>periodo_do_dia_manha</td>\n",
       "      <td>0.029164</td>\n",
       "    </tr>\n",
       "    <tr>\n",
       "      <th>9</th>\n",
       "      <td>secondary_education</td>\n",
       "      <td>0.020614</td>\n",
       "    </tr>\n",
       "    <tr>\n",
       "      <th>17</th>\n",
       "      <td>periodo_do_dia_tarde</td>\n",
       "      <td>0.019537</td>\n",
       "    </tr>\n",
       "    <tr>\n",
       "      <th>16</th>\n",
       "      <td>periodo_do_dia_noite</td>\n",
       "      <td>0.018272</td>\n",
       "    </tr>\n",
       "    <tr>\n",
       "      <th>7</th>\n",
       "      <td>average_household_size</td>\n",
       "      <td>0.018228</td>\n",
       "    </tr>\n",
       "    <tr>\n",
       "      <th>19</th>\n",
       "      <td>estacao_outono</td>\n",
       "      <td>0.017271</td>\n",
       "    </tr>\n",
       "    <tr>\n",
       "      <th>21</th>\n",
       "      <td>estacao_verao</td>\n",
       "      <td>0.017184</td>\n",
       "    </tr>\n",
       "    <tr>\n",
       "      <th>8</th>\n",
       "      <td>primary_education</td>\n",
       "      <td>0.017056</td>\n",
       "    </tr>\n",
       "    <tr>\n",
       "      <th>20</th>\n",
       "      <td>estacao_primavera</td>\n",
       "      <td>0.016605</td>\n",
       "    </tr>\n",
       "    <tr>\n",
       "      <th>3</th>\n",
       "      <td>quantidade_alagamentos</td>\n",
       "      <td>0.015893</td>\n",
       "    </tr>\n",
       "    <tr>\n",
       "      <th>18</th>\n",
       "      <td>estacao_inverno</td>\n",
       "      <td>0.015304</td>\n",
       "    </tr>\n",
       "    <tr>\n",
       "      <th>14</th>\n",
       "      <td>periodo_do_dia_madrugada</td>\n",
       "      <td>0.008407</td>\n",
       "    </tr>\n",
       "    <tr>\n",
       "      <th>11</th>\n",
       "      <td>purchasing_power</td>\n",
       "      <td>0.001508</td>\n",
       "    </tr>\n",
       "  </tbody>\n",
       "</table>\n",
       "</div>"
      ],
      "text/plain": [
       "                      feature  importance\n",
       "0            tamanho_corredor    0.241707\n",
       "1                precipitacao    0.160868\n",
       "5          population_density    0.089416\n",
       "6            household_totals    0.075293\n",
       "10         superior_education    0.067991\n",
       "2   soma_duracoes_alagamentos    0.047581\n",
       "12          dia_dia_de_semana    0.035080\n",
       "4        quantidade_acidentes    0.033819\n",
       "13         dia_fim _de_semana    0.033202\n",
       "15       periodo_do_dia_manha    0.029164\n",
       "9         secondary_education    0.020614\n",
       "17       periodo_do_dia_tarde    0.019537\n",
       "16       periodo_do_dia_noite    0.018272\n",
       "7      average_household_size    0.018228\n",
       "19             estacao_outono    0.017271\n",
       "21              estacao_verao    0.017184\n",
       "8           primary_education    0.017056\n",
       "20          estacao_primavera    0.016605\n",
       "3      quantidade_alagamentos    0.015893\n",
       "18            estacao_inverno    0.015304\n",
       "14   periodo_do_dia_madrugada    0.008407\n",
       "11           purchasing_power    0.001508"
      ]
     },
     "execution_count": 183,
     "metadata": {},
     "output_type": "execute_result"
    }
   ],
   "source": [
    "pd.DataFrame({'feature':X.columns, 'importance':importances}).sort_values('importance', ascending=False)"
   ]
  },
  {
   "cell_type": "code",
   "execution_count": null,
   "metadata": {},
   "outputs": [],
   "source": []
  }
 ],
 "metadata": {
  "kernelspec": {
   "display_name": "ArcGISPro",
   "language": "Python",
   "name": "python3"
  },
  "language_info": {
   "file_extension": ".py",
   "name": "python",
   "version": "3"
  }
 },
 "nbformat": 4,
 "nbformat_minor": 2
}
