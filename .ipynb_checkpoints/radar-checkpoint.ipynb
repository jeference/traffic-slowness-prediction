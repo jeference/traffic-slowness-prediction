{
 "cells": [
  {
   "cell_type": "markdown",
   "id": "24cb1af5",
   "metadata": {},
   "source": [
    "## Importing the libraries"
   ]
  },
  {
   "cell_type": "code",
   "execution_count": 22,
   "id": "c56c7738",
   "metadata": {},
   "outputs": [],
   "source": [
    "import pandas as pd\n",
    "import numpy as np\n",
    "import os\n",
    "import numpy as np"
   ]
  },
  {
   "cell_type": "markdown",
   "id": "b31d8ef3",
   "metadata": {},
   "source": [
    "## Opening and processing slowness data\n"
   ]
  },
  {
   "cell_type": "code",
   "execution_count": 118,
   "id": "7eca1935",
   "metadata": {},
   "outputs": [],
   "source": [
    "directory = '../dados/lentidao/baixados/'\n",
    "#List that will keep the slowness DataFrames\n",
    "dataframes_list = []\n",
    "#Iterating over each Slowness file of each year\n",
    "for filename in os.listdir(directory):\n",
    "    #Opening the slowness DataFrame\n",
    "    df = pd.read_csv(directory+filename,sep=';',encoding='latin-1')\n",
    "    #Verifying if the DataFrame doesn't have the \"region\" column.\n",
    "    if len(df.columns)==6:\n",
    "        #If it doesn't, add this columns (with null values)\n",
    "        df['nome_regiao'] = np.nan\n",
    "    df.columns = ['data','corredor','sentido','expressa','descricao','lentidao','regiao']\n",
    "    #Adding the DataFrame to the list\n",
    "    dataframes_list.append(df)\n",
    "#Concating the DataFrames of all years\n",
    "slowness_df = pd.concat(dataframes_list,axis = 0, ignore_index=True)\n",
    "#Setting date column as datetime\n",
    "slowness_df['data'] = pd.to_datetime(slowness_df['data'], dayfirst=True)"
   ]
  },
  {
   "cell_type": "code",
   "execution_count": null,
   "id": "e1c34809",
   "metadata": {
    "collapsed": true
   },
   "outputs": [],
   "source": []
  }
 ],
 "metadata": {
  "kernelspec": {
   "display_name": "Python 3 (ipykernel)",
   "language": "python",
   "name": "python3"
  },
  "language_info": {
   "codemirror_mode": {
    "name": "ipython",
    "version": 3
   },
   "file_extension": ".py",
   "mimetype": "text/x-python",
   "name": "python",
   "nbconvert_exporter": "python",
   "pygments_lexer": "ipython3",
   "version": "3.9.7"
  }
 },
 "nbformat": 4,
 "nbformat_minor": 5
}
