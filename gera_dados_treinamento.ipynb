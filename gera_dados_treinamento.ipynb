{
 "cells": [
  {
   "cell_type": "markdown",
   "metadata": {},
   "source": [
    "#### Importando as bibliotecas"
   ]
  },
  {
   "cell_type": "code",
   "execution_count": 3,
   "metadata": {},
   "outputs": [],
   "source": [
    "import pandas as pd\n",
    "import numpy as np\n",
    "import matplotlib.pyplot as plt\n",
    "import seaborn\n",
    "import os\n",
    "import scipy.stats\n",
    "from scipy.stats import wilcoxon\n",
    "#from sklearn.tree import DecisionTreeRegressor\n",
    "#from sklearn.linear_model import LinearRegression\n",
    "from sklearn.ensemble import RandomForestRegressor\n",
    "from sklearn.model_selection import train_test_split\n",
    "from sklearn.metrics import mean_squared_error, r2_score, mean_absolute_percentage_error\n",
    "%matplotlib inline"
   ]
  },
  {
   "cell_type": "markdown",
   "metadata": {},
   "source": [
    "#### Abrindo os dados"
   ]
  },
  {
   "cell_type": "code",
   "execution_count": 4,
   "metadata": {},
   "outputs": [],
   "source": [
    "#Abrindo dados de lentidao\n",
    "arruamento_e_lentidao = pd.read_excel(r'D:\\Trabalho\\faculdade\\TCC\\gis\\tabelas\\arruamento_valido_e_lentidao.xlsx', usecols = ['data_medicao','corredor','Shape_Length','lentidao'])\n",
    "arruamento_e_lentidao = arruamento_e_lentidao.rename(columns = {'Shape_Length':'tamanho_corredor'})\n",
    "arruamento_e_lentidao['data_medicao'] = pd.to_datetime(arruamento_e_lentidao['data_medicao'])\n",
    "#arruamento_e_lentidao = arruamento_e_lentidao.set_index(['data_medicao','corredor'])"
   ]
  },
  {
   "cell_type": "code",
   "execution_count": 5,
   "metadata": {},
   "outputs": [],
   "source": [
    "#Abrindo dados de chuva\n",
    "chuva = pd.read_excel(r'D:\\Trabalho\\faculdade\\TCC\\gis\\tabelas\\join_chuva.xlsx',usecols = ['data_medicao','corredor','precipitacao'])\n",
    "chuva['data_medicao'] = pd.to_datetime(chuva['data_medicao'])\n",
    "#chuva = chuva.set_index(['data_medicao','corredor'])"
   ]
  },
  {
   "cell_type": "code",
   "execution_count": 6,
   "metadata": {},
   "outputs": [],
   "source": [
    "#Abrindo dados de alagamento\n",
    "alagamentos = pd.read_excel(r'D:\\Trabalho\\faculdade\\TCC\\gis\\tabelas\\join_alagamentos.xlsx', usecols=['data_medicao','corredor','soma_duracoes_alagamentos','quantidade_alagamentos'])\n",
    "alagamentos['data_medicao'] = pd.to_datetime(alagamentos['data_medicao'])\n",
    "#alagamentos = alagamentos.set_index(['data_medicao','corredor'])"
   ]
  },
  {
   "cell_type": "code",
   "execution_count": 7,
   "metadata": {},
   "outputs": [],
   "source": [
    "#Abrindo dados de acidentes\n",
    "acidentes = pd.read_excel(r'D:\\Trabalho\\faculdade\\TCC\\gis\\tabelas\\join_acidentes.xlsx', usecols=['data_medicao','corredor','quantidade_acidentes'])\n",
    "acidentes['data_medicao'] = pd.to_datetime(acidentes['data_medicao'])\n",
    "#acidentes = acidentes.set_index(['data_medicao','corredor'])"
   ]
  },
  {
   "cell_type": "code",
   "execution_count": 8,
   "metadata": {},
   "outputs": [],
   "source": [
    "#Abrindo dados socioeconômicos\n",
    "socioeconomico = pd.read_excel(r'D:\\Trabalho\\faculdade\\TCC\\gis\\tabelas\\join_socioeconomico.xlsx').drop(['OBJECTID','Shape_Length'], axis=1)\n",
    "socioeconomico['data_medicao'] = pd.to_datetime(socioeconomico['data_medicao'])\n",
    "#acidentes = acidentes.set_index(['data_medicao','corredor'])"
   ]
  },
  {
   "cell_type": "markdown",
   "metadata": {},
   "source": [
    "#### Juntando os dados"
   ]
  },
  {
   "cell_type": "code",
   "execution_count": 9,
   "metadata": {},
   "outputs": [],
   "source": [
    "#Juntando os de chuva\n",
    "merge_chuva = pd.merge(arruamento_e_lentidao,chuva,on=['data_medicao','corredor'], how='left')\n",
    "merge_chuva = merge_chuva.fillna(0)"
   ]
  },
  {
   "cell_type": "code",
   "execution_count": 10,
   "metadata": {},
   "outputs": [],
   "source": [
    "#Juntando dados de alagamento\n",
    "merge_alagamentos = pd.merge(merge_chuva ,alagamentos,on=['data_medicao','corredor'],how='left')\n",
    "merge_alagamentos = merge_alagamentos.fillna(0)"
   ]
  },
  {
   "cell_type": "code",
   "execution_count": 11,
   "metadata": {},
   "outputs": [],
   "source": [
    "#Juntando dados de acidentes\n",
    "merge_acidentes = pd.merge(merge_alagamentos ,acidentes,on=['data_medicao','corredor'],how='left')\n",
    "merge_acidentes = merge_acidentes.fillna(0)"
   ]
  },
  {
   "cell_type": "code",
   "execution_count": 12,
   "metadata": {},
   "outputs": [],
   "source": [
    "#Juntando dados socioeconomicos\n",
    "merge_socioeconomico = pd.merge(merge_acidentes ,socioeconomico,on=['data_medicao','corredor'],how='left')\n",
    "data = merge_socioeconomico.copy()"
   ]
  },
  {
   "cell_type": "markdown",
   "metadata": {},
   "source": [
    "#### Adicionando campos com informações sobre o horário de medição da lentidão"
   ]
  },
  {
   "cell_type": "code",
   "execution_count": 13,
   "metadata": {},
   "outputs": [],
   "source": [
    "data['dia'] = data['data_medicao'].dt.weekday.apply(lambda x: 'dia_de_semana' if x<4 else 'fim _de_semana')\n",
    "\n",
    "\n",
    "def get_daytime(x):\n",
    "    if x in range(0,7):\n",
    "        return 'madrugada'\n",
    "    elif x in range(7,13):\n",
    "        return 'manha'\n",
    "    elif x in range(13,19):\n",
    "        return 'tarde'\n",
    "    elif x in range(19,24):\n",
    "        return 'noite'\n",
    "        \n",
    "data['periodo_do_dia'] = data['data_medicao'].dt.hour.apply(lambda x: get_daytime(x))\n",
    "\n",
    "def get_season(x):\n",
    "    \n",
    "    spring = range(80, 172)\n",
    "    summer = range(172, 264)\n",
    "    fall = range(264, 355)\n",
    "    # winter = everything else\n",
    "\n",
    "    if x in spring:\n",
    "        return'primavera'\n",
    "    elif x in summer:\n",
    "        return'verao'\n",
    "    elif x in fall:\n",
    "        return 'outono'\n",
    "    else:\n",
    "        return 'inverno'\n",
    "    \n",
    "    \n",
    "data['estacao'] = data['data_medicao'].dt.dayofyear.apply(lambda x: get_season(x))"
   ]
  },
  {
   "cell_type": "code",
   "execution_count": 14,
   "metadata": {},
   "outputs": [],
   "source": [
    "one_hot_encoded_columns = pd.get_dummies(data[['dia','periodo_do_dia','estacao']])\n",
    "data = data.drop(['dia','periodo_do_dia','estacao'], axis=1)\n",
    "data = data.join(one_hot_encoded_columns)\n",
    "#data = data.set_index(['data_medicao','corredor'])\n",
    "out_path = r'D:\\Trabalho\\faculdade\\TCC\\outputs\\tabelas\\dados_treino.csv'\n",
    "data.to_csv(out_path, index=False)"
   ]
  }
 ],
 "metadata": {
  "kernelspec": {
   "display_name": "ArcGISPro",
   "language": "Python",
   "name": "python3"
  },
  "language_info": {
   "file_extension": ".py",
   "name": "python",
   "version": "3"
  }
 },
 "nbformat": 4,
 "nbformat_minor": 2
}
