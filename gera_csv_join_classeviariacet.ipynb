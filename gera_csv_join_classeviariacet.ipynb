{
 "cells": [
  {
   "cell_type": "markdown",
   "metadata": {},
   "source": [
    "### Importando as bibliotecas"
   ]
  },
  {
   "cell_type": "code",
   "execution_count": null,
   "metadata": {},
   "outputs": [],
   "source": [
    "import pandas as pd\n",
    "import numpy as np\n",
    "from arcgis.features import GeoAccessor, GeoSeriesAccessor\n",
    "import fuzzywuzzy"
   ]
  },
  {
   "cell_type": "markdown",
   "metadata": {},
   "source": [
    "### Abrindo os dados de ruas da CET"
   ]
  },
  {
   "cell_type": "code",
   "execution_count": null,
   "metadata": {},
   "outputs": [],
   "source": [
    "ruas_cet = pd.DataFrame.spatial.from_featureclass(\"ruas_cet_sp\")"
   ]
  },
  {
   "cell_type": "code",
   "execution_count": null,
   "metadata": {},
   "outputs": [],
   "source": [
    "def remove_espacos_em_branco(string):\n",
    "    return ' '.join([x for x in string.split(' ') if len(x)>0])\n",
    "pd.DataFrame(ruas_cet['cvc_nomelg'].apply(lambda x: remove_espacos_em_branco(x) ).unique()).sort_values(0).to_csv(r\"D:\\Trabalho\\faculdade\\TCC\\outputs\\preprocessamento\\georreferenciamento\\classeviaria_cet.csv\", index=False)"
   ]
  },
  {
   "cell_type": "markdown",
   "metadata": {},
   "source": [
    "### Abrindo os dados de lentidão da CET"
   ]
  },
  {
   "cell_type": "code",
   "execution_count": null,
   "metadata": {},
   "outputs": [],
   "source": [
    "lentidao_cet = pd.read_csv(r\"D:\\Trabalho\\faculdade\\TCC\\dados\\lentidao\\baixados\\lentidaotrechos2019.csv\",sep=';',encoding='latin-1')"
   ]
  },
  {
   "cell_type": "markdown",
   "metadata": {},
   "source": [
    "Criando DataFrame com os nomes (únicos) dos corredores"
   ]
  },
  {
   "cell_type": "code",
   "execution_count": null,
   "metadata": {},
   "outputs": [],
   "source": [
    "corredores_lentidao_cet = pd.DataFrame(lentidao_cet[\"corredor\"].unique()).rename(columns={0:'corredor'})\n",
    "corredores_lentidao_cet"
   ]
  },
  {
   "cell_type": "markdown",
   "metadata": {},
   "source": [
    "## Fazendo Fuzzy Join"
   ]
  },
  {
   "cell_type": "markdown",
   "metadata": {},
   "source": [
    "### Lentidão com ruas da CET"
   ]
  },
  {
   "cell_type": "markdown",
   "metadata": {},
   "source": [
    "Criando função que faz o Fuzzy Join"
   ]
  },
  {
   "cell_type": "code",
   "execution_count": null,
   "metadata": {},
   "outputs": [],
   "source": [
    "from fuzzywuzzy import process\n",
    "\n",
    "def fuzzy_merge(df_1, df_2, key1, key2, threshold=60, limit=3):\n",
    "    \"\"\"\n",
    "    :param df_1: the left table to join\n",
    "    :param df_2: the right table to join\n",
    "    :param key1: key column of the left table\n",
    "    :param key2: key column of the right table\n",
    "    :param threshold: how close the matches should be to return a match, based on Levenshtein distance\n",
    "    :param limit: the amount of matches that will get returned, these are sorted high to low\n",
    "    :return: dataframe with boths keys and matches\n",
    "    \"\"\"\n",
    "    s = df_2[key2].tolist()\n",
    "    \n",
    "    m = df_1[key1].apply(lambda x: process.extract(x, s, limit=limit))    \n",
    "    df_1['matches'] = m\n",
    "    \n",
    "    m2 = df_1['matches'].apply(lambda x: ', '.join([i[0] for i in x if i[1] >= threshold]))\n",
    "    df_1['matches'] = m2\n",
    "    \n",
    "    return df_1,m"
   ]
  },
  {
   "cell_type": "markdown",
   "metadata": {},
   "source": [
    "Fazendo join dos corredores (lentidão CET) com as vias do Dataset de ruas da CET"
   ]
  },
  {
   "cell_type": "markdown",
   "metadata": {},
   "source": [
    "#### Considerando coluna \"cvc_nmlogr\""
   ]
  },
  {
   "cell_type": "code",
   "execution_count": null,
   "metadata": {},
   "outputs": [],
   "source": [
    "#Análise feita considerando apenas o nome \"puro\" da rua. Ou seja, sem prefixos como Av, R. Etc.\n",
    "fuzzy_merge,limiares = fuzzy_merge(corredores_lentidao_cet,ruas_cet,\"corredor\",\"cvc_nmlogr\")"
   ]
  },
  {
   "cell_type": "code",
   "execution_count": null,
   "metadata": {},
   "outputs": [],
   "source": [
    "fuzzy_merge.head(3)"
   ]
  },
  {
   "cell_type": "code",
   "execution_count": null,
   "metadata": {},
   "outputs": [],
   "source": [
    "#Criando colunas que contém os nomes de ruas que deram match\n",
    "match1_lista, match2_lista, match3_lista = [],[],[]\n",
    "for matches_trio in fuzzy_merge['matches']:\n",
    "    match1,match2,match3 = matches_trio.split(', ')[0],matches_trio.split(', ')[1],matches_trio.split(', ')[2]\n",
    "    match1_lista.append(match1)\n",
    "    match2_lista.append(match2)\n",
    "    match3_lista.append(match3)\n",
    "\n",
    "#Criando colunas que contém os graus de similaridade de cada rua\n",
    "limiar1_lista,limiar2_lista,limiar3_lista = [],[],[]\n",
    "for linha in limiares:\n",
    "    for i, item in enumerate(linha):\n",
    "        if i==0:\n",
    "            limiar1_lista.append(item[1])\n",
    "        elif i==1:\n",
    "            limiar2_lista.append(item[1])\n",
    "        elif i==2:\n",
    "            limiar3_lista.append(item[1])\n",
    "            \n",
    "#Criando um DataFrame com todas essas colunas           \n",
    "similaridade_lentidao_e_CET = pd.DataFrame({'corredor':cet_corredores['corredor'],'match 1': match1_lista, 'match 2': match2_lista,'match 3': match3_lista,\n",
    "              'similaridade 1': limiar1_lista,'similaridade 2': limiar2_lista,'similaridade 3': limiar3_lista} )       "
   ]
  },
  {
   "cell_type": "code",
   "execution_count": null,
   "metadata": {},
   "outputs": [],
   "source": [
    "similaridade_lentidao_e_CET.to_csv(r\"D:\\Trabalho\\faculdade\\TCC\\outputs\\preprocessamento\\georreferenciamento\\similaridade_lentidao_e_CET.csv\",index=False)"
   ]
  },
  {
   "cell_type": "markdown",
   "metadata": {},
   "source": [
    "#### Considerando coluna cvc_nomelg"
   ]
  },
  {
   "cell_type": "code",
   "execution_count": null,
   "metadata": {},
   "outputs": [],
   "source": [
    "fuzzy_merge,limiares = fuzzy_merge(corredores_lentidao_cet,ruas_cet,\"corredor\",\"cvc_nomelg\")"
   ]
  },
  {
   "cell_type": "code",
   "execution_count": null,
   "metadata": {},
   "outputs": [],
   "source": [
    "fuzzy_merge.head(30)"
   ]
  }
 ],
 "metadata": {
  "kernelspec": {
   "display_name": "ArcGISPro",
   "language": "Python",
   "name": "python3"
  },
  "language_info": {
   "file_extension": ".py",
   "name": "python",
   "version": "3"
  }
 },
 "nbformat": 4,
 "nbformat_minor": 2
}
